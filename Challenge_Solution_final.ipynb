{
 "cells": [
  {
   "cell_type": "code",
   "execution_count": 1,
   "id": "f721ccf9",
   "metadata": {
    "gradient": {
     "editing": false,
     "id": "75f1535b",
     "kernelId": "589b2c89-f93f-458e-b5f1-c0c44263b61e"
    }
   },
   "outputs": [],
   "source": [
    "import transformers\n",
    "from transformers import BertModel, BertTokenizer, AdamW, get_linear_schedule_with_warmup\n",
    "import torch\n",
    "import numpy as np\n",
    "import pandas as pd\n",
    "import seaborn as sns\n",
    "from pylab import rcParams\n",
    "import matplotlib.pyplot as plt\n",
    "from matplotlib import rcParams\n",
    "from sklearn.model_selection import train_test_split\n",
    "from sklearn.metrics import confusion_matrix, classification_report, f1_score\n",
    "from collections import defaultdict\n",
    "from textwrap import wrap\n",
    "from torch import nn, optim\n",
    "from torch.utils.data import Dataset, DataLoader\n",
    "import datasets\n",
    "import re"
   ]
  },
  {
   "cell_type": "code",
   "execution_count": 2,
   "id": "9ce0d460",
   "metadata": {
    "gradient": {
     "editing": false,
     "id": "ee4a942c",
     "kernelId": "589b2c89-f93f-458e-b5f1-c0c44263b61e"
    }
   },
   "outputs": [],
   "source": [
    "%matplotlib inline\n",
    "%config InlineBackend.figure_format='retina'"
   ]
  },
  {
   "cell_type": "code",
   "execution_count": 3,
   "id": "5959fdc1",
   "metadata": {
    "gradient": {
     "editing": false,
     "id": "ea361b59",
     "kernelId": "589b2c89-f93f-458e-b5f1-c0c44263b61e"
    }
   },
   "outputs": [],
   "source": [
    "sns.set(style=\"whitegrid\", palette=\"muted\", font_scale=1.2)\n",
    "\n",
    "HAPPY_COLORS_PALETTE = [\"#01BEFE\",\"#FFDD00\"]\n",
    "\n",
    "sns.set_palette(sns.color_palette(HAPPY_COLORS_PALETTE))\n",
    "\n",
    "rcParams['figure.figsize'] = 6,6\n",
    "\n",
    "RANDOM_SEED = 42\n",
    "np.random.seed(RANDOM_SEED)\n",
    "torch.manual_seed(RANDOM_SEED)\n",
    "device = torch.device(\"cuda:0\" if torch.cuda.is_available() else \"cpu\")"
   ]
  },
  {
   "cell_type": "code",
   "execution_count": 4,
   "id": "58341fc8",
   "metadata": {
    "gradient": {
     "editing": false,
     "id": "ca49ae04",
     "kernelId": "589b2c89-f93f-458e-b5f1-c0c44263b61e"
    }
   },
   "outputs": [],
   "source": [
    "train = pd.read_csv('train_challenge.csv',sep=',')\n",
    "test = pd.read_csv('test_challenge.csv',sep=',')\n",
    "train = train.sample(frac = 1)\n",
    "test = test.sample(frac = 1)"
   ]
  },
  {
   "cell_type": "code",
   "execution_count": 5,
   "id": "15efaac1",
   "metadata": {},
   "outputs": [
    {
     "data": {
      "text/plain": [
       "(29543, 6)"
      ]
     },
     "execution_count": 5,
     "metadata": {},
     "output_type": "execute_result"
    }
   ],
   "source": [
    "train.shape"
   ]
  },
  {
   "cell_type": "code",
   "execution_count": 6,
   "id": "2c84d7cd",
   "metadata": {},
   "outputs": [
    {
     "data": {
      "text/plain": [
       "(6331, 6)"
      ]
     },
     "execution_count": 6,
     "metadata": {},
     "output_type": "execute_result"
    }
   ],
   "source": [
    "test.shape"
   ]
  },
  {
   "cell_type": "code",
   "execution_count": 7,
   "id": "7fa082c6",
   "metadata": {},
   "outputs": [
    {
     "data": {
      "text/html": [
       "<div>\n",
       "<style scoped>\n",
       "    .dataframe tbody tr th:only-of-type {\n",
       "        vertical-align: middle;\n",
       "    }\n",
       "\n",
       "    .dataframe tbody tr th {\n",
       "        vertical-align: top;\n",
       "    }\n",
       "\n",
       "    .dataframe thead th {\n",
       "        text-align: right;\n",
       "    }\n",
       "</style>\n",
       "<table border=\"1\" class=\"dataframe\">\n",
       "  <thead>\n",
       "    <tr style=\"text-align: right;\">\n",
       "      <th></th>\n",
       "      <th>id</th>\n",
       "      <th>time</th>\n",
       "      <th>tweet</th>\n",
       "      <th>smth</th>\n",
       "      <th>lang</th>\n",
       "    </tr>\n",
       "    <tr>\n",
       "      <th>sent</th>\n",
       "      <th></th>\n",
       "      <th></th>\n",
       "      <th></th>\n",
       "      <th></th>\n",
       "      <th></th>\n",
       "    </tr>\n",
       "  </thead>\n",
       "  <tbody>\n",
       "    <tr>\n",
       "      <th>Neutral</th>\n",
       "      <td>13912</td>\n",
       "      <td>13912</td>\n",
       "      <td>13912</td>\n",
       "      <td>13909</td>\n",
       "      <td>13909</td>\n",
       "    </tr>\n",
       "    <tr>\n",
       "      <th>Non_neutral</th>\n",
       "      <td>15631</td>\n",
       "      <td>15631</td>\n",
       "      <td>15631</td>\n",
       "      <td>15631</td>\n",
       "      <td>15631</td>\n",
       "    </tr>\n",
       "  </tbody>\n",
       "</table>\n",
       "</div>"
      ],
      "text/plain": [
       "                id   time  tweet   smth   lang\n",
       "sent                                          \n",
       "Neutral      13912  13912  13912  13909  13909\n",
       "Non_neutral  15631  15631  15631  15631  15631"
      ]
     },
     "execution_count": 7,
     "metadata": {},
     "output_type": "execute_result"
    }
   ],
   "source": [
    "train.groupby('sent').count()"
   ]
  },
  {
   "cell_type": "code",
   "execution_count": 8,
   "id": "ab065c10",
   "metadata": {},
   "outputs": [],
   "source": [
    "def remove_url_hashtags(string):\n",
    "    url_regex = r\"(?i)\\b((?:https?://|www\\d{0,3}[.]|[a-z0-9.\\-]+[.][a-z]{2,4}/)(?:[^\\s()<>]+|\\(([^\\remove_url_hashtags]+|(\\([^\\s()<>]+\\)))*\\))+(?:\\(([^\\s()<>]+|(\\([^\\s()<>]+\\)))*\\)|[^\\s`!()\\[\\]{};:'\\\".,<>?«»“”‘’]))\"\n",
    "    hashtag_regex = r\"#(\\w+)\"\n",
    "    profile_regex = r\"@(\\w+)\"\n",
    "    string = re.sub(url_regex,\"\",string)\n",
    "    string = re.sub(hashtag_regex, \"\", string)\n",
    "    # string = re.sub(profile_regex, \"\", string)\n",
    "    return string.strip()"
   ]
  },
  {
   "cell_type": "code",
   "execution_count": 9,
   "id": "ef03544b",
   "metadata": {
    "gradient": {
     "editing": false,
     "id": "1fcf1aa2",
     "kernelId": "589b2c89-f93f-458e-b5f1-c0c44263b61e"
    }
   },
   "outputs": [
    {
     "data": {
      "text/html": [
       "<div>\n",
       "<style scoped>\n",
       "    .dataframe tbody tr th:only-of-type {\n",
       "        vertical-align: middle;\n",
       "    }\n",
       "\n",
       "    .dataframe tbody tr th {\n",
       "        vertical-align: top;\n",
       "    }\n",
       "\n",
       "    .dataframe thead th {\n",
       "        text-align: right;\n",
       "    }\n",
       "</style>\n",
       "<table border=\"1\" class=\"dataframe\">\n",
       "  <thead>\n",
       "    <tr style=\"text-align: right;\">\n",
       "      <th></th>\n",
       "      <th>id</th>\n",
       "      <th>time</th>\n",
       "      <th>tweet</th>\n",
       "      <th>smth</th>\n",
       "      <th>lang</th>\n",
       "      <th>sent</th>\n",
       "      <th>sent_numeric</th>\n",
       "    </tr>\n",
       "  </thead>\n",
       "  <tbody>\n",
       "    <tr>\n",
       "      <th>19622</th>\n",
       "      <td>513758979949072384</td>\n",
       "      <td>2014-09-21 18:37:40+00:00</td>\n",
       "      <td>@vera_juless M Noodle on Metropolitan is cheap.</td>\n",
       "      <td>8.198146e+07</td>\n",
       "      <td>en</td>\n",
       "      <td>Neutral</td>\n",
       "      <td>1</td>\n",
       "    </tr>\n",
       "    <tr>\n",
       "      <th>21536</th>\n",
       "      <td>514025406354440192</td>\n",
       "      <td>2014-09-22 12:16:21+00:00</td>\n",
       "      <td>RT @ABRACCO: Wish I was there........😡👊</td>\n",
       "      <td>2.445555e+09</td>\n",
       "      <td>en</td>\n",
       "      <td>Non_neutral</td>\n",
       "      <td>0</td>\n",
       "    </tr>\n",
       "    <tr>\n",
       "      <th>17361</th>\n",
       "      <td>513447540306362368</td>\n",
       "      <td>2014-09-20 22:00:07+00:00</td>\n",
       "      <td>RT @bretmn21: @TheLyricalPurge @OfficialTLCNew...</td>\n",
       "      <td>1.959005e+09</td>\n",
       "      <td>en</td>\n",
       "      <td>Neutral</td>\n",
       "      <td>1</td>\n",
       "    </tr>\n",
       "    <tr>\n",
       "      <th>17017</th>\n",
       "      <td>513412207515017216</td>\n",
       "      <td>2014-09-20 19:39:43+00:00</td>\n",
       "      <td>RT @CantBeLikeThis2: THATS WHAT I WANT is it h...</td>\n",
       "      <td>7.058968e+07</td>\n",
       "      <td>en</td>\n",
       "      <td>Non_neutral</td>\n",
       "      <td>0</td>\n",
       "    </tr>\n",
       "    <tr>\n",
       "      <th>22720</th>\n",
       "      <td>514176548111261697</td>\n",
       "      <td>2014-09-22 22:16:56+00:00</td>\n",
       "      <td>I liked a @YouTube video from @bet  Cassidy in...</td>\n",
       "      <td>4.017459e+07</td>\n",
       "      <td>en</td>\n",
       "      <td>Non_neutral</td>\n",
       "      <td>0</td>\n",
       "    </tr>\n",
       "  </tbody>\n",
       "</table>\n",
       "</div>"
      ],
      "text/plain": [
       "                       id                       time  \\\n",
       "19622  513758979949072384  2014-09-21 18:37:40+00:00   \n",
       "21536  514025406354440192  2014-09-22 12:16:21+00:00   \n",
       "17361  513447540306362368  2014-09-20 22:00:07+00:00   \n",
       "17017  513412207515017216  2014-09-20 19:39:43+00:00   \n",
       "22720  514176548111261697  2014-09-22 22:16:56+00:00   \n",
       "\n",
       "                                                   tweet          smth lang  \\\n",
       "19622    @vera_juless M Noodle on Metropolitan is cheap.  8.198146e+07   en   \n",
       "21536            RT @ABRACCO: Wish I was there........😡👊  2.445555e+09   en   \n",
       "17361  RT @bretmn21: @TheLyricalPurge @OfficialTLCNew...  1.959005e+09   en   \n",
       "17017  RT @CantBeLikeThis2: THATS WHAT I WANT is it h...  7.058968e+07   en   \n",
       "22720  I liked a @YouTube video from @bet  Cassidy in...  4.017459e+07   en   \n",
       "\n",
       "              sent  sent_numeric  \n",
       "19622      Neutral             1  \n",
       "21536  Non_neutral             0  \n",
       "17361      Neutral             1  \n",
       "17017  Non_neutral             0  \n",
       "22720  Non_neutral             0  "
      ]
     },
     "execution_count": 9,
     "metadata": {},
     "output_type": "execute_result"
    }
   ],
   "source": [
    "train['sent_numeric'] = train['sent'].apply(lambda x: 0 if x.lower() == \"non_neutral\" else 1)\n",
    "train['tweet'] = train['tweet'].apply(remove_url_hashtags)\n",
    "train.head()"
   ]
  },
  {
   "cell_type": "code",
   "execution_count": 10,
   "id": "a531ed7b",
   "metadata": {
    "gradient": {
     "editing": false,
     "id": "28d13575",
     "kernelId": "589b2c89-f93f-458e-b5f1-c0c44263b61e"
    }
   },
   "outputs": [
    {
     "data": {
      "text/html": [
       "<div>\n",
       "<style scoped>\n",
       "    .dataframe tbody tr th:only-of-type {\n",
       "        vertical-align: middle;\n",
       "    }\n",
       "\n",
       "    .dataframe tbody tr th {\n",
       "        vertical-align: top;\n",
       "    }\n",
       "\n",
       "    .dataframe thead th {\n",
       "        text-align: right;\n",
       "    }\n",
       "</style>\n",
       "<table border=\"1\" class=\"dataframe\">\n",
       "  <thead>\n",
       "    <tr style=\"text-align: right;\">\n",
       "      <th></th>\n",
       "      <th>id</th>\n",
       "      <th>time</th>\n",
       "      <th>tweet</th>\n",
       "      <th>smth</th>\n",
       "      <th>lang</th>\n",
       "      <th>sent</th>\n",
       "      <th>sent_numeric</th>\n",
       "    </tr>\n",
       "  </thead>\n",
       "  <tbody>\n",
       "    <tr>\n",
       "      <th>4171</th>\n",
       "      <td>514579503264579584</td>\n",
       "      <td>2014-09-24 00:58:08+00:00</td>\n",
       "      <td>RT @ColIegeStudent: wait a minute this isn’t m...</td>\n",
       "      <td>731207077.0</td>\n",
       "      <td>en</td>\n",
       "      <td>Non_neutral</td>\n",
       "      <td>0</td>\n",
       "    </tr>\n",
       "    <tr>\n",
       "      <th>5386</th>\n",
       "      <td>513353214599524354</td>\n",
       "      <td>2014-09-20 15:45:18+00:00</td>\n",
       "      <td>@gailyw  do you still get fav alerts? :D</td>\n",
       "      <td>25418884.0</td>\n",
       "      <td>en</td>\n",
       "      <td>Neutral</td>\n",
       "      <td>1</td>\n",
       "    </tr>\n",
       "    <tr>\n",
       "      <th>1771</th>\n",
       "      <td>513442515530571776</td>\n",
       "      <td>2014-09-20 21:40:09+00:00</td>\n",
       "      <td>@Marykayb63 @Danielle_S_Inge @annie340 @1970Ka...</td>\n",
       "      <td>184984125.0</td>\n",
       "      <td>en</td>\n",
       "      <td>Non_neutral</td>\n",
       "      <td>0</td>\n",
       "    </tr>\n",
       "    <tr>\n",
       "      <th>2133</th>\n",
       "      <td>511934705189810176</td>\n",
       "      <td>2014-09-16 17:48:39+00:00</td>\n",
       "      <td>Drifting in and out of consciousness. SO TIRED</td>\n",
       "      <td>361244756.0</td>\n",
       "      <td>en</td>\n",
       "      <td>Non_neutral</td>\n",
       "      <td>0</td>\n",
       "    </tr>\n",
       "    <tr>\n",
       "      <th>1446</th>\n",
       "      <td>512640908563857408</td>\n",
       "      <td>2014-09-18 16:34:51+00:00</td>\n",
       "      <td>Attending the @ohiou @OHIOAlumni  @VoinovichSc...</td>\n",
       "      <td>17719752.0</td>\n",
       "      <td>en</td>\n",
       "      <td>Neutral</td>\n",
       "      <td>1</td>\n",
       "    </tr>\n",
       "  </tbody>\n",
       "</table>\n",
       "</div>"
      ],
      "text/plain": [
       "                      id                       time  \\\n",
       "4171  514579503264579584  2014-09-24 00:58:08+00:00   \n",
       "5386  513353214599524354  2014-09-20 15:45:18+00:00   \n",
       "1771  513442515530571776  2014-09-20 21:40:09+00:00   \n",
       "2133  511934705189810176  2014-09-16 17:48:39+00:00   \n",
       "1446  512640908563857408  2014-09-18 16:34:51+00:00   \n",
       "\n",
       "                                                  tweet         smth lang  \\\n",
       "4171  RT @ColIegeStudent: wait a minute this isn’t m...  731207077.0   en   \n",
       "5386           @gailyw  do you still get fav alerts? :D   25418884.0   en   \n",
       "1771  @Marykayb63 @Danielle_S_Inge @annie340 @1970Ka...  184984125.0   en   \n",
       "2133     Drifting in and out of consciousness. SO TIRED  361244756.0   en   \n",
       "1446  Attending the @ohiou @OHIOAlumni  @VoinovichSc...   17719752.0   en   \n",
       "\n",
       "             sent  sent_numeric  \n",
       "4171  Non_neutral             0  \n",
       "5386      Neutral             1  \n",
       "1771  Non_neutral             0  \n",
       "2133  Non_neutral             0  \n",
       "1446      Neutral             1  "
      ]
     },
     "execution_count": 10,
     "metadata": {},
     "output_type": "execute_result"
    }
   ],
   "source": [
    "test['sent_numeric'] = test['sent'].apply(lambda x: 0 if x.lower() == \"non_neutral\" else 1)\n",
    "test['tweet'] = test['tweet'].apply(remove_url_hashtags)\n",
    "test.head()"
   ]
  },
  {
   "cell_type": "code",
   "execution_count": 11,
   "id": "b3abeb69",
   "metadata": {
    "gradient": {
     "editing": false,
     "id": "2cfef481",
     "kernelId": "589b2c89-f93f-458e-b5f1-c0c44263b61e"
    }
   },
   "outputs": [
    {
     "name": "stderr",
     "output_type": "stream",
     "text": [
      "/opt/conda/lib/python3.8/site-packages/seaborn/_decorators.py:36: FutureWarning: Pass the following variable as a keyword arg: x. From version 0.12, the only valid positional argument will be `data`, and passing other arguments without an explicit keyword will result in an error or misinterpretation.\n",
      "  warnings.warn(\n"
     ]
    },
    {
     "data": {
      "text/plain": [
       "Text(0.5, 0, 'Sentiment')"
      ]
     },
     "execution_count": 11,
     "metadata": {},
     "output_type": "execute_result"
    },
    {
     "data": {
      "image/png": "[encoded data removed]",
      "text/plain": [
       "<Figure size 432x432 with 1 Axes>"
      ]
     },
     "metadata": {
      "image/png": {
       "height": 381,
       "width": 418
      }
     },
     "output_type": "display_data"
    }
   ],
   "source": [
    "sns.countplot(train.sent_numeric)\n",
    "plt.xlabel(\"Sentiment\")"
   ]
  },
  {
   "cell_type": "code",
   "execution_count": 12,
   "id": "232b2f95",
   "metadata": {
    "gradient": {
     "editing": false,
     "id": "43edcb5e",
     "kernelId": "589b2c89-f93f-458e-b5f1-c0c44263b61e"
    }
   },
   "outputs": [
    {
     "name": "stderr",
     "output_type": "stream",
     "text": [
      "/opt/conda/lib/python3.8/site-packages/seaborn/_decorators.py:36: FutureWarning: Pass the following variable as a keyword arg: x. From version 0.12, the only valid positional argument will be `data`, and passing other arguments without an explicit keyword will result in an error or misinterpretation.\n",
      "  warnings.warn(\n"
     ]
    },
    {
     "data": {
      "text/plain": [
       "Text(0.5, 0, 'Sentiment')"
      ]
     },
     "execution_count": 12,
     "metadata": {},
     "output_type": "execute_result"
    },
    {
     "data": {
      "image/png": "[encoded data removed]",
      "text/plain": [
       "<Figure size 432x432 with 1 Axes>"
      ]
     },
     "metadata": {
      "image/png": {
       "height": 381,
       "width": 410
      }
     },
     "output_type": "display_data"
    }
   ],
   "source": [
    "sns.countplot(test.sent_numeric)\n",
    "plt.xlabel(\"Sentiment\")"
   ]
  },
  {
   "cell_type": "code",
   "execution_count": 13,
   "id": "038e8707",
   "metadata": {
    "gradient": {
     "editing": false,
     "id": "6b8ea543",
     "kernelId": "589b2c89-f93f-458e-b5f1-c0c44263b61e"
    }
   },
   "outputs": [
    {
     "data": {
      "application/vnd.jupyter.widget-view+json": {
       "model_id": "63b2883ae0a34504b0ab1431a7eecdec",
       "version_major": 2,
       "version_minor": 0
      },
      "text/plain": [
       "Downloading:   0%|          | 0.00/208k [00:00<?, ?B/s]"
      ]
     },
     "metadata": {},
     "output_type": "display_data"
    },
    {
     "data": {
      "application/vnd.jupyter.widget-view+json": {
       "model_id": "fb212df5749140289eb75b84c2fa7819",
       "version_major": 2,
       "version_minor": 0
      },
      "text/plain": [
       "Downloading:   0%|          | 0.00/29.0 [00:00<?, ?B/s]"
      ]
     },
     "metadata": {},
     "output_type": "display_data"
    },
    {
     "data": {
      "application/vnd.jupyter.widget-view+json": {
       "model_id": "3ca7863d44d644c781f66724ac525f9d",
       "version_major": 2,
       "version_minor": 0
      },
      "text/plain": [
       "Downloading:   0%|          | 0.00/426k [00:00<?, ?B/s]"
      ]
     },
     "metadata": {},
     "output_type": "display_data"
    },
    {
     "data": {
      "application/vnd.jupyter.widget-view+json": {
       "model_id": "097c5552021e40899b7d8a1a4acdaf15",
       "version_major": 2,
       "version_minor": 0
      },
      "text/plain": [
       "Downloading:   0%|          | 0.00/570 [00:00<?, ?B/s]"
      ]
     },
     "metadata": {},
     "output_type": "display_data"
    }
   ],
   "source": [
    "# !pip install ipywidgets\n",
    "# !pip install iprogress\n",
    "PRE_TRAINED_MODEL_NAME = 'bert-base-cased'\n",
    "tokenizer = transformers.BertTokenizer.from_pretrained(PRE_TRAINED_MODEL_NAME)"
   ]
  },
  {
   "cell_type": "code",
   "execution_count": 14,
   "id": "ebf64412",
   "metadata": {
    "gradient": {
     "id": "1c6877b1",
     "kernelId": "589b2c89-f93f-458e-b5f1-c0c44263b61e"
    }
   },
   "outputs": [],
   "source": [
    "class_names = list(set(train['sent']))"
   ]
  },
  {
   "cell_type": "code",
   "execution_count": 15,
   "id": "a350f831",
   "metadata": {
    "gradient": {
     "editing": false,
     "id": "59433464",
     "kernelId": "589b2c89-f93f-458e-b5f1-c0c44263b61e"
    }
   },
   "outputs": [
    {
     "name": "stderr",
     "output_type": "stream",
     "text": [
      "Truncation was not explicitly activated but `max_length` is provided a specific value, please use `truncation=True` to explicitly truncate examples to max length. Defaulting to 'longest_first' truncation strategy. If you encode pairs of sequences (GLUE-style) with the tokenizer you can select this strategy more precisely by providing a specific strategy to `truncation`.\n"
     ]
    }
   ],
   "source": [
    "#Choosing Sequence Length\n",
    "\n",
    "token_lens = []\n",
    "\n",
    "for txt in train.tweet:\n",
    "    tokens = tokenizer.encode(txt, max_length=512)\n",
    "    token_lens.append(len(tokens))"
   ]
  },
  {
   "cell_type": "code",
   "execution_count": 16,
   "id": "7bc38510",
   "metadata": {
    "gradient": {
     "editing": false,
     "id": "7ad4d4dc",
     "kernelId": "589b2c89-f93f-458e-b5f1-c0c44263b61e"
    }
   },
   "outputs": [
    {
     "data": {
      "text/plain": [
       "<seaborn.axisgrid.FacetGrid at 0x7f75351b22b0>"
      ]
     },
     "execution_count": 16,
     "metadata": {},
     "output_type": "execute_result"
    },
    {
     "data": {
      "image/png": "[encoded data removed]",
      "text/plain": [
       "<Figure size 360x360 with 1 Axes>"
      ]
     },
     "metadata": {
      "image/png": {
       "height": 343,
       "width": 343
      }
     },
     "output_type": "display_data"
    }
   ],
   "source": [
    "sns.displot(token_lens)"
   ]
  },
  {
   "cell_type": "code",
   "execution_count": 17,
   "id": "6ba5c94d",
   "metadata": {
    "gradient": {
     "editing": false,
     "id": "d51b9663",
     "kernelId": "589b2c89-f93f-458e-b5f1-c0c44263b61e"
    }
   },
   "outputs": [],
   "source": [
    "# Create a Dataset\n",
    "\n",
    "class TwitterSentimentDataset(Dataset):\n",
    "    def __init__(self, tweet, target, tokenizer, max_len):\n",
    "        self.tweet = tweet\n",
    "        self.target = target\n",
    "        self.tokenizer = tokenizer\n",
    "        self.max_len = max_len\n",
    "        \n",
    "    def __len__(self):\n",
    "        return len(self.tweet)\n",
    "    \n",
    "    def __getitem__(self, item):\n",
    "        tweet = str(self.tweet[item])\n",
    "        \n",
    "        encoding = tokenizer(\n",
    "            tweet,\n",
    "            max_length=self.max_len,\n",
    "#             pad_to_multiple_of=True,\n",
    "            padding='max_length',\n",
    "            truncation='only_first',\n",
    "            return_attention_mask=True,\n",
    "            return_token_type_ids=False,\n",
    "            return_tensors='pt'\n",
    "        )\n",
    "        \n",
    "        return {\n",
    "            'tweet': tweet,\n",
    "            'input_ids': encoding['input_ids'].flatten(),\n",
    "            'attention_mask': encoding['attention_mask'].flatten(),\n",
    "            'targets': torch.tensor(self.target[item], dtype=torch.long)\n",
    "        }\n",
    "    "
   ]
  },
  {
   "cell_type": "code",
   "execution_count": 30,
   "id": "b45d03b1",
   "metadata": {
    "gradient": {
     "editing": false,
     "id": "a3deb1f5",
     "kernelId": "589b2c89-f93f-458e-b5f1-c0c44263b61e"
    }
   },
   "outputs": [],
   "source": [
    "MAX_LEN = 128\n",
    "BATCH_SIZE = 16\n",
    "EPOCHS = 3"
   ]
  },
  {
   "cell_type": "code",
   "execution_count": 31,
   "id": "2d461a04",
   "metadata": {
    "gradient": {
     "editing": false,
     "id": "f904d24e",
     "kernelId": "589b2c89-f93f-458e-b5f1-c0c44263b61e"
    }
   },
   "outputs": [],
   "source": [
    "df_val, df_test = train_test_split(test, test_size=0.5, random_state=RANDOM_SEED)"
   ]
  },
  {
   "cell_type": "code",
   "execution_count": 32,
   "id": "8a8d189a",
   "metadata": {
    "gradient": {
     "editing": false,
     "id": "3c262615",
     "kernelId": "589b2c89-f93f-458e-b5f1-c0c44263b61e"
    }
   },
   "outputs": [
    {
     "data": {
      "text/plain": [
       "(3165, 7)"
      ]
     },
     "execution_count": 32,
     "metadata": {},
     "output_type": "execute_result"
    }
   ],
   "source": [
    "df_val.shape"
   ]
  },
  {
   "cell_type": "code",
   "execution_count": 33,
   "id": "286cdb85",
   "metadata": {
    "gradient": {
     "editing": false,
     "id": "83bccaa9",
     "kernelId": "589b2c89-f93f-458e-b5f1-c0c44263b61e"
    }
   },
   "outputs": [
    {
     "data": {
      "text/plain": [
       "(3166, 7)"
      ]
     },
     "execution_count": 33,
     "metadata": {},
     "output_type": "execute_result"
    }
   ],
   "source": [
    "df_test.shape"
   ]
  },
  {
   "cell_type": "code",
   "execution_count": 34,
   "id": "2992ca83",
   "metadata": {
    "gradient": {
     "editing": false,
     "id": "d1223178",
     "kernelId": "589b2c89-f93f-458e-b5f1-c0c44263b61e"
    }
   },
   "outputs": [
    {
     "data": {
      "text/plain": [
       "(29543, 7)"
      ]
     },
     "execution_count": 34,
     "metadata": {},
     "output_type": "execute_result"
    }
   ],
   "source": [
    "train.shape"
   ]
  },
  {
   "cell_type": "code",
   "execution_count": 35,
   "id": "32a69b5c",
   "metadata": {
    "gradient": {
     "editing": false,
     "id": "3bdbc351",
     "kernelId": "589b2c89-f93f-458e-b5f1-c0c44263b61e"
    }
   },
   "outputs": [],
   "source": [
    "def create_data_loader(df, tokenizer, max_len, batch_size):\n",
    "    ds = TwitterSentimentDataset(\n",
    "        tweet = df.tweet.to_numpy(),\n",
    "        target=df.sent_numeric.to_numpy(),\n",
    "        tokenizer=tokenizer,\n",
    "        max_len=max_len\n",
    "    )\n",
    "    return DataLoader(\n",
    "    ds,\n",
    "    batch_size=batch_size,\n",
    "    num_workers=0)"
   ]
  },
  {
   "cell_type": "code",
   "execution_count": 36,
   "id": "284e200a",
   "metadata": {
    "gradient": {
     "editing": false,
     "id": "7a1ba829",
     "kernelId": "589b2c89-f93f-458e-b5f1-c0c44263b61e"
    }
   },
   "outputs": [],
   "source": [
    "train_data_loader = create_data_loader(train, tokenizer, MAX_LEN, BATCH_SIZE)\n",
    "val_data_loader = create_data_loader(df_val, tokenizer, MAX_LEN, BATCH_SIZE)\n",
    "test_data_loader = create_data_loader(df_test, tokenizer, MAX_LEN, BATCH_SIZE)"
   ]
  },
  {
   "cell_type": "code",
   "execution_count": 37,
   "id": "478f22e3",
   "metadata": {
    "gradient": {
     "editing": false,
     "id": "8c2a53f4",
     "kernelId": "589b2c89-f93f-458e-b5f1-c0c44263b61e"
    }
   },
   "outputs": [
    {
     "data": {
      "text/plain": [
       "dict_keys(['tweet', 'input_ids', 'attention_mask', 'targets'])"
      ]
     },
     "execution_count": 37,
     "metadata": {},
     "output_type": "execute_result"
    }
   ],
   "source": [
    "data = next(iter(train_data_loader))\n",
    "data.keys()"
   ]
  },
  {
   "cell_type": "code",
   "execution_count": 38,
   "id": "c639fa13",
   "metadata": {
    "gradient": {
     "editing": false,
     "id": "3f7596c6",
     "kernelId": "589b2c89-f93f-458e-b5f1-c0c44263b61e"
    }
   },
   "outputs": [
    {
     "name": "stdout",
     "output_type": "stream",
     "text": [
      "torch.Size([16, 128])\n"
     ]
    }
   ],
   "source": [
    "print(data['input_ids'].shape)"
   ]
  },
  {
   "cell_type": "code",
   "execution_count": 39,
   "id": "ee4f274f",
   "metadata": {
    "gradient": {
     "editing": false,
     "id": "72bab02f",
     "kernelId": "589b2c89-f93f-458e-b5f1-c0c44263b61e"
    }
   },
   "outputs": [
    {
     "name": "stdout",
     "output_type": "stream",
     "text": [
      "torch.Size([16, 128])\n"
     ]
    }
   ],
   "source": [
    "print(data['attention_mask'].shape)"
   ]
  },
  {
   "cell_type": "code",
   "execution_count": 40,
   "id": "a70e84a5",
   "metadata": {
    "gradient": {
     "editing": false,
     "id": "26172a9b",
     "kernelId": "589b2c89-f93f-458e-b5f1-c0c44263b61e"
    }
   },
   "outputs": [
    {
     "name": "stdout",
     "output_type": "stream",
     "text": [
      "torch.Size([16])\n"
     ]
    }
   ],
   "source": [
    "print(data['targets'].shape)"
   ]
  },
  {
   "cell_type": "code",
   "execution_count": 41,
   "id": "c250177f",
   "metadata": {
    "gradient": {
     "editing": false,
     "id": "87fc1b4b",
     "kernelId": "589b2c89-f93f-458e-b5f1-c0c44263b61e"
    }
   },
   "outputs": [
    {
     "data": {
      "application/vnd.jupyter.widget-view+json": {
       "model_id": "1947b6724b944efab6a2d99ce3d15d1b",
       "version_major": 2,
       "version_minor": 0
      },
      "text/plain": [
       "Downloading:   0%|          | 0.00/416M [00:00<?, ?B/s]"
      ]
     },
     "metadata": {},
     "output_type": "display_data"
    },
    {
     "name": "stderr",
     "output_type": "stream",
     "text": [
      "Some weights of the model checkpoint at bert-base-cased were not used when initializing BertModel: ['cls.predictions.decoder.weight', 'cls.predictions.bias', 'cls.predictions.transform.dense.bias', 'cls.predictions.transform.LayerNorm.bias', 'cls.seq_relationship.weight', 'cls.seq_relationship.bias', 'cls.predictions.transform.dense.weight', 'cls.predictions.transform.LayerNorm.weight']\n",
      "- This IS expected if you are initializing BertModel from the checkpoint of a model trained on another task or with another architecture (e.g. initializing a BertForSequenceClassification model from a BertForPreTraining model).\n",
      "- This IS NOT expected if you are initializing BertModel from the checkpoint of a model that you expect to be exactly identical (initializing a BertForSequenceClassification model from a BertForSequenceClassification model).\n"
     ]
    }
   ],
   "source": [
    "bert_model = BertModel.from_pretrained(PRE_TRAINED_MODEL_NAME)"
   ]
  },
  {
   "cell_type": "code",
   "execution_count": 49,
   "id": "9e3b8b44",
   "metadata": {
    "gradient": {
     "id": "addad52f",
     "kernelId": "589b2c89-f93f-458e-b5f1-c0c44263b61e"
    }
   },
   "outputs": [],
   "source": [
    "class SentimentClassifier(nn.Module):\n",
    "    \n",
    "    def __init__(self, n_classes):\n",
    "        super(SentimentClassifier, self).__init__()\n",
    "        self.bert = BertModel.from_pretrained(PRE_TRAINED_MODEL_NAME)\n",
    "        self.drop = nn.Dropout(p=0.3)\n",
    "        self.out = nn.Linear(self.bert.config.hidden_size, n_classes)\n",
    "        # self.softmax = nn.Softmax(dim=1)\n",
    "        \n",
    "    def forward(self, input_ids, attention_mask):\n",
    "        returned = self.bert(\n",
    "        input_ids = input_ids,\n",
    "        attention_mask=attention_mask\n",
    "        # return_dict=False # https://stackoverflow.com/questions/65082243/dropout-argument-input-position-1-must-be-tensor-not-str-when-using-bert\n",
    "        )\n",
    "        pooled_output = returned[\"pooler_output\"]\n",
    "        output = self.drop(pooled_output)\n",
    "        # output = self.out(output)\n",
    "        return self.out(output) #self.softmax(output)"
   ]
  },
  {
   "cell_type": "code",
   "execution_count": 43,
   "id": "35f1dc0d",
   "metadata": {
    "gradient": {
     "id": "3ccf09c8",
     "kernelId": "589b2c89-f93f-458e-b5f1-c0c44263b61e"
    }
   },
   "outputs": [
    {
     "name": "stderr",
     "output_type": "stream",
     "text": [
      "Some weights of the model checkpoint at bert-base-cased were not used when initializing BertModel: ['cls.predictions.decoder.weight', 'cls.predictions.bias', 'cls.predictions.transform.dense.bias', 'cls.predictions.transform.LayerNorm.bias', 'cls.seq_relationship.weight', 'cls.seq_relationship.bias', 'cls.predictions.transform.dense.weight', 'cls.predictions.transform.LayerNorm.weight']\n",
      "- This IS expected if you are initializing BertModel from the checkpoint of a model trained on another task or with another architecture (e.g. initializing a BertForSequenceClassification model from a BertForPreTraining model).\n",
      "- This IS NOT expected if you are initializing BertModel from the checkpoint of a model that you expect to be exactly identical (initializing a BertForSequenceClassification model from a BertForSequenceClassification model).\n"
     ]
    }
   ],
   "source": [
    "model = SentimentClassifier(len(class_names))"
   ]
  },
  {
   "cell_type": "code",
   "execution_count": 44,
   "id": "9d0b7d02",
   "metadata": {
    "gradient": {
     "id": "6cc48800",
     "kernelId": "589b2c89-f93f-458e-b5f1-c0c44263b61e"
    }
   },
   "outputs": [],
   "source": [
    "model = model.to(device)"
   ]
  },
  {
   "cell_type": "code",
   "execution_count": 45,
   "id": "edf9155a",
   "metadata": {
    "gradient": {
     "id": "80de0756",
     "kernelId": "589b2c89-f93f-458e-b5f1-c0c44263b61e"
    }
   },
   "outputs": [
    {
     "name": "stdout",
     "output_type": "stream",
     "text": [
      "torch.Size([16, 128])\n",
      "torch.Size([16, 128])\n"
     ]
    }
   ],
   "source": [
    "input_ids = data['input_ids'].to(device)\n",
    "attention_mask = data['attention_mask'].to(device)\n",
    "\n",
    "print(input_ids.shape)\n",
    "print(attention_mask.shape)"
   ]
  },
  {
   "cell_type": "code",
   "execution_count": 46,
   "id": "46d8896c",
   "metadata": {
    "gradient": {
     "id": "56a73caa",
     "kernelId": "589b2c89-f93f-458e-b5f1-c0c44263b61e"
    }
   },
   "outputs": [
    {
     "data": {
      "text/plain": [
       "tensor([[ 0.7134,  0.5801],\n",
       "        [ 0.6244,  0.2006],\n",
       "        [ 0.5352,  0.2775],\n",
       "        [ 0.6123,  0.0440],\n",
       "        [ 0.7378,  0.3604],\n",
       "        [ 0.3222,  0.1954],\n",
       "        [ 0.5130,  0.5693],\n",
       "        [ 0.4263,  0.7640],\n",
       "        [ 0.5108,  0.2112],\n",
       "        [ 0.4459,  0.3870],\n",
       "        [ 1.0005, -0.1059],\n",
       "        [ 0.7286,  0.6569],\n",
       "        [ 0.2532, -0.3147],\n",
       "        [ 0.5314,  0.1409],\n",
       "        [ 0.6270,  0.0341],\n",
       "        [ 1.0287,  0.8695]], device='cuda:0', grad_fn=<AddmmBackward0>)"
      ]
     },
     "execution_count": 46,
     "metadata": {},
     "output_type": "execute_result"
    }
   ],
   "source": [
    "model(input_ids, attention_mask)\n",
    "# F.softmax(model(input_ids, attention_mask), dim=1)"
   ]
  },
  {
   "cell_type": "code",
   "execution_count": 47,
   "id": "55ffdd16",
   "metadata": {
    "gradient": {
     "id": "961f47d0",
     "kernelId": "589b2c89-f93f-458e-b5f1-c0c44263b61e"
    }
   },
   "outputs": [
    {
     "data": {
      "text/plain": [
       "dict"
      ]
     },
     "execution_count": 47,
     "metadata": {},
     "output_type": "execute_result"
    }
   ],
   "source": [
    "type(data)"
   ]
  },
  {
   "cell_type": "code",
   "execution_count": 48,
   "id": "7c1c2097",
   "metadata": {
    "gradient": {
     "id": "fdbf1139",
     "kernelId": "589b2c89-f93f-458e-b5f1-c0c44263b61e"
    }
   },
   "outputs": [
    {
     "data": {
      "text/plain": [
       "torch.Size([16, 128])"
      ]
     },
     "execution_count": 48,
     "metadata": {},
     "output_type": "execute_result"
    }
   ],
   "source": [
    "data['input_ids'].shape"
   ]
  },
  {
   "cell_type": "code",
   "execution_count": 50,
   "id": "98439e43",
   "metadata": {
    "gradient": {
     "id": "16eb6c31",
     "kernelId": "589b2c89-f93f-458e-b5f1-c0c44263b61e"
    }
   },
   "outputs": [],
   "source": [
    "optimizer = AdamW(model.parameters(), lr=2e-5, correct_bias=False)\n",
    "\n",
    "total_steps = len(train_data_loader) * EPOCHS\n",
    "\n",
    "scheduler = get_linear_schedule_with_warmup(\n",
    "    optimizer,\n",
    "    num_warmup_steps=0,\n",
    "    num_training_steps=total_steps\n",
    ")\n",
    "\n",
    "loss_fn = nn.CrossEntropyLoss().to(device)"
   ]
  },
  {
   "cell_type": "code",
   "execution_count": 51,
   "id": "681952aa",
   "metadata": {
    "gradient": {
     "id": "337fa64c",
     "kernelId": "589b2c89-f93f-458e-b5f1-c0c44263b61e"
    }
   },
   "outputs": [],
   "source": [
    "def train_epoch(\n",
    "    model,\n",
    "    data_loader,\n",
    "    loss_fn,\n",
    "    optimizer,\n",
    "    device,\n",
    "    scheduler,\n",
    "    n_examples\n",
    "    ):\n",
    "\n",
    "    model = model.train()\n",
    "\n",
    "    losses = []\n",
    "    correct_predictions = 0\n",
    "\n",
    "    count = 0\n",
    "#     bar = progressbar.ProgressBar(maxval=train.shape[0], widgets=[progressbar.Bar('=', '[', ']'), ' ', progressbar.Percentage()])\n",
    "#     bar.start()\n",
    "    for d in data_loader:\n",
    "        count += 1\n",
    "#         bar.update(count)\n",
    "#         sleep(0.1)\n",
    "        if(count % 100 == 0): print(count, end=\" \")\n",
    "        input_ids = d['input_ids'].to(device)\n",
    "        attention_mask = d['attention_mask'].to(device)\n",
    "        targets = d['targets'].to(device)\n",
    "\n",
    "        outputs = model(\n",
    "            input_ids = input_ids,\n",
    "            attention_mask = attention_mask\n",
    "        )\n",
    "\n",
    "        _, preds = torch.max(outputs, dim=1)\n",
    "        loss = loss_fn(outputs, targets)\n",
    "\n",
    "        correct_predictions += torch.sum(preds == targets)\n",
    "        losses.append(loss.item())\n",
    "\n",
    "        loss.backward()\n",
    "        nn.utils.clip_grad_norm_(model.parameters(), max_norm=1.0)\n",
    "        optimizer.step()\n",
    "        scheduler.step()\n",
    "        optimizer.zero_grad()\n",
    "    \n",
    "    return correct_predictions.double()/n_examples, np.mean(losses)\n",
    "    \n",
    "    "
   ]
  },
  {
   "cell_type": "code",
   "execution_count": 52,
   "id": "ae2cb696",
   "metadata": {
    "gradient": {
     "id": "bf91b54b",
     "kernelId": "589b2c89-f93f-458e-b5f1-c0c44263b61e"
    }
   },
   "outputs": [],
   "source": [
    "def eval_model(model, data_loader, loss_fn, device, n_examples):\n",
    "    model = model.eval()\n",
    "    \n",
    "    losses = []\n",
    "    correct_predictions = 0\n",
    "    \n",
    "    with torch.no_grad():\n",
    "        for d in data_loader:\n",
    "            input_ids = d['input_ids'].to(device)\n",
    "            attention_mask = d['attention_mask'].to(device)\n",
    "            targets = d['targets'].to(device)\n",
    "\n",
    "            outputs = model(\n",
    "                input_ids = input_ids,\n",
    "                attention_mask = attention_mask\n",
    "            )\n",
    "\n",
    "            _, preds = torch.max(outputs, dim=1)\n",
    "            loss = loss_fn(outputs, targets)\n",
    "\n",
    "            correct_predictions += torch.sum(preds == targets)\n",
    "            losses.append(loss.item())\n",
    "            \n",
    "    return correct_predictions.double()/n_examples, np.mean(losses)\n"
   ]
  },
  {
   "cell_type": "code",
   "execution_count": 53,
   "id": "df414f48",
   "metadata": {
    "gradient": {
     "id": "20d30369",
     "kernelId": "589b2c89-f93f-458e-b5f1-c0c44263b61e"
    }
   },
   "outputs": [
    {
     "name": "stdout",
     "output_type": "stream",
     "text": [
      "Epoch 1/3\n",
      "----------\n",
      "100 200 300 400 500 600 700 800 900 1000 1100 1200 1300 1400 1500 1600 1700 1800 Train loss 0.5627645272933023 accuracy 0.7124868835257083\n",
      "Val loss 0.5158223008567636 accuracy 0.7481832543443917\n",
      "\n",
      "Epoch 2/3\n",
      "----------\n",
      "100 200 300 400 500 600 700 800 900 1000 1100 1200 1300 1400 1500 1600 1700 1800 Train loss 0.42167097803671166 accuracy 0.8079071184375317\n",
      "Val loss 0.5378478757961832 accuracy 0.7462875197472353\n",
      "\n",
      "Epoch 3/3\n",
      "----------\n",
      "100 200 300 400 500 600 700 800 900 1000 1100 1200 1300 1400 1500 1600 1700 1800 Train loss 0.30851767844816497 accuracy 0.8760789357885117\n",
      "Val loss 0.6834225948862355 accuracy 0.7371248025276461\n",
      "\n",
      "CPU times: user 43min 42s, sys: 29min 41s, total: 1h 13min 23s\n",
      "Wall time: 1h 13min 28s\n"
     ]
    }
   ],
   "source": [
    "%%time\n",
    "\n",
    "history = defaultdict(list)\n",
    "best_accuracy = 0\n",
    "\n",
    "for epoch in range(EPOCHS):\n",
    "    print(f'Epoch {epoch+1}/{EPOCHS}')\n",
    "    print('-' * 10)\n",
    "    \n",
    "    train_acc, train_loss = train_epoch(\n",
    "    model,\n",
    "    train_data_loader,\n",
    "    loss_fn,\n",
    "    optimizer,\n",
    "    device,\n",
    "    scheduler,\n",
    "    len(train)\n",
    "    )\n",
    "    \n",
    "    print(f'Train loss {train_loss} accuracy {train_acc}')\n",
    "    \n",
    "    val_acc, val_loss = eval_model(\n",
    "    model,\n",
    "    val_data_loader,\n",
    "    loss_fn,\n",
    "    device,\n",
    "    len(df_val)\n",
    "    )\n",
    "    \n",
    "    print(f'Val loss {val_loss} accuracy {val_acc}')\n",
    "    print()\n",
    "    \n",
    "    history['train_acc'].append(train_acc)\n",
    "    history['train_loss'].append(train_loss)\n",
    "    \n",
    "    history['val_acc'].append(val_acc)\n",
    "    history['val_loss'].append(val_loss)\n",
    "    \n",
    "    if val_acc > best_accuracy:\n",
    "        torch.save(model.state_dict(), 'model.bin')\n",
    "        best_accuracy = val_acc"
   ]
  },
  {
   "cell_type": "code",
   "execution_count": 54,
   "id": "f8558689",
   "metadata": {
    "gradient": {
     "id": "7209c12e",
     "kernelId": "589b2c89-f93f-458e-b5f1-c0c44263b61e"
    }
   },
   "outputs": [
    {
     "data": {
      "text/plain": [
       "0.7334175615919141"
      ]
     },
     "execution_count": 54,
     "metadata": {},
     "output_type": "execute_result"
    }
   ],
   "source": [
    "test_acc, _ = eval_model(\n",
    "  model,\n",
    "  test_data_loader,\n",
    "  loss_fn,\n",
    "  device,\n",
    "  len(df_test)\n",
    ")\n",
    "test_acc.item()"
   ]
  },
  {
   "cell_type": "code",
   "execution_count": 55,
   "id": "e9b4ff3c",
   "metadata": {},
   "outputs": [
    {
     "name": "stderr",
     "output_type": "stream",
     "text": [
      "Some weights of the model checkpoint at bert-base-cased were not used when initializing BertModel: ['cls.predictions.decoder.weight', 'cls.predictions.bias', 'cls.predictions.transform.dense.bias', 'cls.predictions.transform.LayerNorm.bias', 'cls.seq_relationship.weight', 'cls.seq_relationship.bias', 'cls.predictions.transform.dense.weight', 'cls.predictions.transform.LayerNorm.weight']\n",
      "- This IS expected if you are initializing BertModel from the checkpoint of a model trained on another task or with another architecture (e.g. initializing a BertForSequenceClassification model from a BertForPreTraining model).\n",
      "- This IS NOT expected if you are initializing BertModel from the checkpoint of a model that you expect to be exactly identical (initializing a BertForSequenceClassification model from a BertForSequenceClassification model).\n"
     ]
    }
   ],
   "source": [
    "model = SentimentClassifier(len(class_names))\n",
    "model.load_state_dict(torch.load('model.bin'))\n",
    "model = model.to(device)"
   ]
  },
  {
   "cell_type": "code",
   "execution_count": 56,
   "id": "1257f2d5",
   "metadata": {
    "gradient": {
     "id": "68ea5c3d",
     "kernelId": "589b2c89-f93f-458e-b5f1-c0c44263b61e"
    }
   },
   "outputs": [],
   "source": [
    "def get_predictions(model, data_loader):\n",
    "    model = model.eval()\n",
    "    tweet_texts = []\n",
    "    predictions = []\n",
    "    prediction_probs = []\n",
    "    real_values = []\n",
    "    \n",
    "    with torch.no_grad():\n",
    "        for d in data_loader:\n",
    "            texts = d['tweet']\n",
    "            input_ids = d['input_ids'].to(device)\n",
    "            attention_mask = d['attention_mask'].to(device)\n",
    "            targets = d['targets'].to(device)\n",
    "            \n",
    "            outputs = model(\n",
    "                input_ids = input_ids,\n",
    "                attention_mask = attention_mask\n",
    "            )\n",
    "            \n",
    "            _, preds = torch.max(outputs, dim=1)\n",
    "            \n",
    "            tweet_texts.extend(texts)\n",
    "            predictions.extend(preds)\n",
    "            prediction_probs.extend(outputs)\n",
    "            real_values.extend(targets)\n",
    "            \n",
    "    predictions = torch.stack(predictions).cpu()\n",
    "    prediction_probs = torch.stack(prediction_probs).cpu()\n",
    "    real_values = torch.stack(real_values).cpu()\n",
    "\n",
    "    return tweet_texts, predictions, prediction_probs, real_values"
   ]
  },
  {
   "cell_type": "code",
   "execution_count": 57,
   "id": "cf1ac611",
   "metadata": {
    "gradient": {
     "id": "d6fb70d8",
     "kernelId": "589b2c89-f93f-458e-b5f1-c0c44263b61e"
    }
   },
   "outputs": [],
   "source": [
    "y_tweet_texts, y_pred, y_pred_probs, y_test = get_predictions(model, test_data_loader)"
   ]
  },
  {
   "cell_type": "code",
   "execution_count": 58,
   "id": "85412826",
   "metadata": {
    "gradient": {
     "id": "8a91c5e0",
     "kernelId": "589b2c89-f93f-458e-b5f1-c0c44263b61e"
    }
   },
   "outputs": [],
   "source": [
    "test_acc, test_loss = eval_model(model, test_data_loader, loss_fn, device, len(df_test))"
   ]
  },
  {
   "cell_type": "code",
   "execution_count": 59,
   "id": "f1d469fc",
   "metadata": {
    "gradient": {
     "id": "768c593e",
     "kernelId": "589b2c89-f93f-458e-b5f1-c0c44263b61e"
    }
   },
   "outputs": [
    {
     "data": {
      "text/plain": [
       "tensor(0.7378, device='cuda:0', dtype=torch.float64)"
      ]
     },
     "execution_count": 59,
     "metadata": {},
     "output_type": "execute_result"
    }
   ],
   "source": [
    "test_acc"
   ]
  },
  {
   "cell_type": "code",
   "execution_count": 60,
   "id": "6cde6dec",
   "metadata": {
    "gradient": {
     "id": "1c0d54d5",
     "kernelId": "589b2c89-f93f-458e-b5f1-c0c44263b61e"
    }
   },
   "outputs": [
    {
     "name": "stdout",
     "output_type": "stream",
     "text": [
      "              precision    recall  f1-score   support\n",
      "\n",
      "     Neutral       0.71      0.82      0.76      1588\n",
      " Non_neutral       0.78      0.66      0.71      1578\n",
      "\n",
      "    accuracy                           0.74      3166\n",
      "   macro avg       0.74      0.74      0.74      3166\n",
      "weighted avg       0.74      0.74      0.74      3166\n",
      "\n"
     ]
    }
   ],
   "source": [
    "print(classification_report(y_test, y_pred, target_names = class_names))"
   ]
  },
  {
   "cell_type": "code",
   "execution_count": 61,
   "id": "4474606a",
   "metadata": {
    "gradient": {
     "id": "97d1249d",
     "kernelId": "589b2c89-f93f-458e-b5f1-c0c44263b61e"
    }
   },
   "outputs": [
    {
     "data": {
      "image/png": "[encoded data removed]",
      "text/plain": [
       "<Figure size 432x432 with 2 Axes>"
      ]
     },
     "metadata": {
      "image/png": {
       "height": 419,
       "width": 466
      }
     },
     "output_type": "display_data"
    }
   ],
   "source": [
    "def show_confusion_matrix(confusion_matrix):\n",
    "    hmap = sns.heatmap(confusion_matrix, annot=True, fmt=\"d\", cmap=\"Blues\")\n",
    "    hmap.yaxis.set_ticklabels(hmap.yaxis.get_ticklabels(), rotation=0, ha='right')\n",
    "    hmap.xaxis.set_ticklabels(hmap.xaxis.get_ticklabels(), rotation=30, ha='right')\n",
    "    plt.ylabel('True sentiment')\n",
    "    plt.xlabel('Predicted sentiment')\n",
    "    \n",
    "cm = confusion_matrix(y_test, y_pred)\n",
    "df_cm = pd.DataFrame(cm, index=class_names, columns=class_names)\n",
    "show_confusion_matrix(df_cm)"
   ]
  },
  {
   "cell_type": "code",
   "execution_count": 63,
   "id": "8230cbcc",
   "metadata": {},
   "outputs": [
    {
     "name": "stdout",
     "output_type": "stream",
     "text": [
      "0.7141873278236915\n"
     ]
    }
   ],
   "source": [
    "print(f1_score(y_test,y_pred))"
   ]
  }
 ],
 "metadata": {
  "kernelspec": {
   "display_name": "Python 3 (ipykernel)",
   "language": "python",
   "name": "python3"
  },
  "language_info": {
   "codemirror_mode": {
    "name": "ipython",
    "version": 3
   },
   "file_extension": ".py",
   "mimetype": "text/x-python",
   "name": "python",
   "nbconvert_exporter": "python",
   "pygments_lexer": "ipython3",
   "version": "3.9.7"
  }
 },
 "nbformat": 4,
 "nbformat_minor": 5
}
